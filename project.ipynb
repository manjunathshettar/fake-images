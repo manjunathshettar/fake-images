{
 "cells": [
  {
   "cell_type": "code",
   "execution_count": 1,
   "metadata": {},
   "outputs": [],
   "source": [
    "import pandas as pd\n",
    "import numpy as np\n",
    "import matplotlib.pyplot as plt\n",
    "import seaborn as sns\n",
    "import os\n",
    "\n",
    "# %matplotlib inline"
   ]
  },
  {
   "cell_type": "code",
   "execution_count": 2,
   "metadata": {},
   "outputs": [],
   "source": [
    "import torch\n",
    "import torch.nn as nn\n",
    "import torch.nn.functional as F\n",
    "from torch import inf"
   ]
  },
  {
   "cell_type": "code",
   "execution_count": 3,
   "metadata": {},
   "outputs": [
    {
     "data": {
      "text/plain": [
       "device(type='mps')"
      ]
     },
     "execution_count": 3,
     "metadata": {},
     "output_type": "execute_result"
    }
   ],
   "source": [
    "device = torch.device(\"mps\" if torch.backends.mps.is_available() else \"cpu\")\n",
    "device"
   ]
  },
  {
   "cell_type": "code",
   "execution_count": 4,
   "metadata": {},
   "outputs": [],
   "source": [
    "img_height = 32\n",
    "img_width = 32"
   ]
  },
  {
   "cell_type": "code",
   "execution_count": 5,
   "metadata": {},
   "outputs": [],
   "source": [
    "import torchvision\n",
    "from torchvision import transforms, datasets"
   ]
  },
  {
   "cell_type": "code",
   "execution_count": 6,
   "metadata": {},
   "outputs": [],
   "source": [
    "transform = transforms.Compose([transforms.Resize((img_height, img_width)),\n",
    "                                transforms.ToTensor(),\n",
    "                                transforms.Normalize((0.5,), (0.5,))])"
   ]
  },
  {
   "cell_type": "code",
   "execution_count": 7,
   "metadata": {},
   "outputs": [],
   "source": [
    "train_path = './archive/train/'\n",
    "train_path_real = './archive/train/REAL/'\n",
    "test_path = './archive/test/'\n",
    "test_path_real = './archive/test/REAL/'"
   ]
  },
  {
   "cell_type": "code",
   "execution_count": 8,
   "metadata": {},
   "outputs": [],
   "source": [
    "train_dataset = datasets.ImageFolder(root = train_path, transform=transform)\n",
    "test_dataset = datasets.ImageFolder(root = test_path, transform=transform)"
   ]
  },
  {
   "cell_type": "code",
   "execution_count": 9,
   "metadata": {},
   "outputs": [],
   "source": [
    "from torch.utils.data import DataLoader"
   ]
  },
  {
   "cell_type": "code",
   "execution_count": 10,
   "metadata": {},
   "outputs": [],
   "source": [
    "trainloader = DataLoader(train_dataset, batch_size=64, shuffle=True)\n",
    "testloader = DataLoader(test_dataset, batch_size=64, shuffle=True)    "
   ]
  },
  {
   "cell_type": "code",
   "execution_count": 11,
   "metadata": {},
   "outputs": [
    {
     "name": "stderr",
     "output_type": "stream",
     "text": [
      "Clipping input data to the valid range for imshow with RGB data ([0..1] for floats or [0..255] for integers).\n"
     ]
    },
    {
     "name": "stdout",
     "output_type": "stream",
     "text": [
      "Feature batch shape: torch.Size([64, 3, 32, 32])\n",
      "Labels batch shape: torch.Size([64])\n"
     ]
    },
    {
     "data": {
      "image/png": "[encoded data removed]",
      "text/plain": [
       "<Figure size 640x480 with 1 Axes>"
      ]
     },
     "metadata": {},
     "output_type": "display_data"
    },
    {
     "name": "stdout",
     "output_type": "stream",
     "text": [
      "Label: 0\n"
     ]
    }
   ],
   "source": [
    "train_features, train_labels = next(iter(trainloader))\n",
    "print(f\"Feature batch shape: {train_features.size()}\")\n",
    "print(f\"Labels batch shape: {train_labels.size()}\")\n",
    "img = train_features[0].squeeze()\n",
    "img.transpose_(0, 2)\n",
    "#display the image\n",
    "plt.imshow(img, cmap=\"gray\")\n",
    "label = train_labels[1]\n",
    "#plt.imshow(img, cmap=\"gray\")\n",
    "plt.show()\n",
    "print(f\"Label: {label}\")"
   ]
  },
  {
   "cell_type": "code",
   "execution_count": 12,
   "metadata": {},
   "outputs": [],
   "source": [
    "#split the datasets\n",
    "from sklearn.model_selection import train_test_split\n",
    "\n",
    "X_set, X_test, y_set, y_test = train_test_split(train_features, train_labels, test_size=0.2, random_state=42)\n",
    "X_train, X_val, y_train, y_val = train_test_split(X_set, y_set, test_size=0.2, random_state=42)\n",
    "\n"
   ]
  },
  {
   "cell_type": "code",
   "execution_count": 13,
   "metadata": {},
   "outputs": [],
   "source": [
    "#create a model\n",
    "\n",
    "class Discriminator(nn.Module):\n",
    "\n",
    "    def __init__(self, *args, **kwargs) -> None:\n",
    "        super().__init__(*args, **kwargs)\n",
    "        \n",
    "        self.conv1 = nn.Conv2d(in_channels=3, out_channels = 32, kernel_size=5)\n",
    "        self.conv2 = nn.Conv2d(in_channels=32, out_channels = 32, kernel_size=5)\n",
    "        #self.conv = nn.Conv2d(in_channels=3, out_channels = 32, kernel_size=(3,3))\n",
    "\n",
    "        self.fc1 = nn.Linear(32 * 5 * 5, 128)\n",
    "        self.fc2 = nn.Linear(128, 1)\n",
    "    \n",
    "    def forward(self, x):\n",
    "        x = self.conv1(x)\n",
    "        x = F.relu(x)\n",
    "        x = F.max_pool2d(x, kernel_size=2, stride=2)\n",
    "        x = self.conv2(x)\n",
    "        x = F.relu(x)\n",
    "        x = F.max_pool2d(x, kernel_size=2, stride=2)\n",
    "        x = x.view(-1, 32 * 5 * 5)\n",
    "        x = self.fc1(x)\n",
    "        x = F.relu(x)\n",
    "        x = self.fc2(x)\n",
    "        x = torch.sigmoid(x)\n",
    "        return x.squeeze()"
   ]
  },
  {
   "cell_type": "code",
   "execution_count": 14,
   "metadata": {},
   "outputs": [],
   "source": [
    "discriminator = Discriminator().to(device)\n"
   ]
  },
  {
   "cell_type": "code",
   "execution_count": 15,
   "metadata": {},
   "outputs": [
    {
     "name": "stdout",
     "output_type": "stream",
     "text": [
      "torch.Size([40, 3, 32, 32]) torch.Size([11, 3, 32, 32]) torch.Size([13, 3, 32, 32])\n"
     ]
    }
   ],
   "source": [
    "print(X_train.shape, X_val.shape, X_test.shape)"
   ]
  },
  {
   "cell_type": "code",
   "execution_count": 16,
   "metadata": {},
   "outputs": [],
   "source": [
    "#convert tensors to floats\n",
    "X_train = X_train.float()\n",
    "X_val = X_val.float()\n",
    "X_test = X_test.float()\n",
    "y_train = y_train.float()\n",
    "y_val = y_val.float()\n",
    "y_test = y_test.float()"
   ]
  },
  {
   "cell_type": "code",
   "execution_count": 17,
   "metadata": {},
   "outputs": [],
   "source": [
    "model = Discriminator().to(device)\n",
    "optimizer = torch.optim.Adam(model.parameters(), lr=0.001)"
   ]
  },
  {
   "cell_type": "code",
   "execution_count": 18,
   "metadata": {},
   "outputs": [],
   "source": [
    "accuracy_list = []\n",
    "\n",
    "def train(epochs, model, perm=torch.arange(0, 784).long()):\n",
    "    model.train()\n",
    "    for epoch in range(epochs):\n",
    "      for batch_idx, (data, target) in enumerate(trainloader):\n",
    "          # send to device\n",
    "          data, target = data.to(device), target.to(device)\n",
    "          \n",
    "          data = data.float()\n",
    "          target = target.float()\n",
    "\n",
    "          optimizer.zero_grad()\n",
    "          output = model(data)\n",
    "          loss = F.binary_cross_entropy(output, target)\n",
    "          loss.backward()\n",
    "          optimizer.step()\n",
    "          if batch_idx % 100 == 0:\n",
    "              print('Train Epoch: {} [{}/{} ({:.0f}%)]\\tLoss: {:.6f}'.format(\n",
    "                  epoch, batch_idx * len(data), len(trainloader.dataset),\n",
    "                  100. * batch_idx / len(trainloader), loss.item()))\n",
    "            \n",
    "def test(model, perm=torch.arange(0, 784).long()):\n",
    "    model.eval()\n",
    "    test_loss = 0\n",
    "    correct = 0\n",
    "    for data, target in testloader:\n",
    "        # send to device\n",
    "        data, target = data.to(device), target.to(device)\n",
    "        \n",
    "        data = data.float()\n",
    "        target = target.float()\n",
    "        # permute pixels\n",
    "        output = model(data)\n",
    "        test_loss += F.binary_cross_entropy(output, target, reduction='sum').item() # sum up batch loss                                                               \n",
    "        pred = (output > 0.5).float()                                                                \n",
    "        correct += (pred == target).cpu().sum().item()\n",
    "\n",
    "\n",
    "    test_loss /= len(testloader.dataset)\n",
    "    accuracy = 100. * correct / len(testloader.dataset)\n",
    "    accuracy_list.append(accuracy)\n",
    "    print('\\nTest set: Average loss: {:.4f}, Accuracy: {}/{} ({:.0f}%)\\n'.format(\n",
    "        test_loss, correct, len(testloader.dataset),\n",
    "        accuracy))\n",
    "     \n"
   ]
  },
  {
   "cell_type": "code",
   "execution_count": 19,
   "metadata": {},
   "outputs": [
    {
     "name": "stdout",
     "output_type": "stream",
     "text": [
      "Train Epoch: 0 [0/100000 (0%)]\tLoss: 0.694915\n",
      "Train Epoch: 0 [6400/100000 (6%)]\tLoss: 0.703660\n",
      "Train Epoch: 0 [12800/100000 (13%)]\tLoss: 0.392724\n",
      "Train Epoch: 0 [19200/100000 (19%)]\tLoss: 0.324968\n",
      "Train Epoch: 0 [25600/100000 (26%)]\tLoss: 0.253654\n",
      "Train Epoch: 0 [32000/100000 (32%)]\tLoss: 0.432847\n",
      "Train Epoch: 0 [38400/100000 (38%)]\tLoss: 0.170112\n",
      "Train Epoch: 0 [44800/100000 (45%)]\tLoss: 0.256195\n",
      "Train Epoch: 0 [51200/100000 (51%)]\tLoss: 0.318071\n",
      "Train Epoch: 0 [57600/100000 (58%)]\tLoss: 0.123973\n",
      "Train Epoch: 0 [64000/100000 (64%)]\tLoss: 0.210147\n",
      "Train Epoch: 0 [70400/100000 (70%)]\tLoss: 0.185180\n",
      "Train Epoch: 0 [76800/100000 (77%)]\tLoss: 0.245551\n",
      "Train Epoch: 0 [83200/100000 (83%)]\tLoss: 0.253817\n",
      "Train Epoch: 0 [89600/100000 (90%)]\tLoss: 0.315371\n",
      "Train Epoch: 0 [96000/100000 (96%)]\tLoss: 0.288296\n",
      "Train Epoch: 1 [0/100000 (0%)]\tLoss: 0.260165\n",
      "Train Epoch: 1 [6400/100000 (6%)]\tLoss: 0.289908\n",
      "Train Epoch: 1 [12800/100000 (13%)]\tLoss: 0.234039\n",
      "Train Epoch: 1 [19200/100000 (19%)]\tLoss: 0.237266\n",
      "Train Epoch: 1 [25600/100000 (26%)]\tLoss: 0.186985\n",
      "Train Epoch: 1 [32000/100000 (32%)]\tLoss: 0.224837\n",
      "Train Epoch: 1 [38400/100000 (38%)]\tLoss: 0.226157\n",
      "Train Epoch: 1 [44800/100000 (45%)]\tLoss: 0.362068\n",
      "Train Epoch: 1 [51200/100000 (51%)]\tLoss: 0.120483\n",
      "Train Epoch: 1 [57600/100000 (58%)]\tLoss: 0.184173\n",
      "Train Epoch: 1 [64000/100000 (64%)]\tLoss: 0.212450\n",
      "Train Epoch: 1 [70400/100000 (70%)]\tLoss: 0.200094\n",
      "Train Epoch: 1 [76800/100000 (77%)]\tLoss: 0.148649\n",
      "Train Epoch: 1 [83200/100000 (83%)]\tLoss: 0.129940\n",
      "Train Epoch: 1 [89600/100000 (90%)]\tLoss: 0.108018\n",
      "Train Epoch: 1 [96000/100000 (96%)]\tLoss: 0.177768\n",
      "Train Epoch: 2 [0/100000 (0%)]\tLoss: 0.143822\n",
      "Train Epoch: 2 [6400/100000 (6%)]\tLoss: 0.151558\n",
      "Train Epoch: 2 [12800/100000 (13%)]\tLoss: 0.087274\n",
      "Train Epoch: 2 [19200/100000 (19%)]\tLoss: 0.239092\n",
      "Train Epoch: 2 [25600/100000 (26%)]\tLoss: 0.107093\n",
      "Train Epoch: 2 [32000/100000 (32%)]\tLoss: 0.199623\n",
      "Train Epoch: 2 [38400/100000 (38%)]\tLoss: 0.082108\n",
      "Train Epoch: 2 [44800/100000 (45%)]\tLoss: 0.115437\n",
      "Train Epoch: 2 [51200/100000 (51%)]\tLoss: 0.109889\n",
      "Train Epoch: 2 [57600/100000 (58%)]\tLoss: 0.178647\n",
      "Train Epoch: 2 [64000/100000 (64%)]\tLoss: 0.221916\n",
      "Train Epoch: 2 [70400/100000 (70%)]\tLoss: 0.250899\n",
      "Train Epoch: 2 [76800/100000 (77%)]\tLoss: 0.178217\n",
      "Train Epoch: 2 [83200/100000 (83%)]\tLoss: 0.242871\n",
      "Train Epoch: 2 [89600/100000 (90%)]\tLoss: 0.058092\n",
      "Train Epoch: 2 [96000/100000 (96%)]\tLoss: 0.099097\n",
      "Train Epoch: 3 [0/100000 (0%)]\tLoss: 0.172256\n",
      "Train Epoch: 3 [6400/100000 (6%)]\tLoss: 0.117748\n",
      "Train Epoch: 3 [12800/100000 (13%)]\tLoss: 0.085659\n",
      "Train Epoch: 3 [19200/100000 (19%)]\tLoss: 0.248558\n",
      "Train Epoch: 3 [25600/100000 (26%)]\tLoss: 0.101323\n",
      "Train Epoch: 3 [32000/100000 (32%)]\tLoss: 0.136568\n",
      "Train Epoch: 3 [38400/100000 (38%)]\tLoss: 0.159378\n",
      "Train Epoch: 3 [44800/100000 (45%)]\tLoss: 0.074684\n",
      "Train Epoch: 3 [51200/100000 (51%)]\tLoss: 0.159497\n",
      "Train Epoch: 3 [57600/100000 (58%)]\tLoss: 0.123897\n",
      "Train Epoch: 3 [64000/100000 (64%)]\tLoss: 0.109083\n",
      "Train Epoch: 3 [70400/100000 (70%)]\tLoss: 0.105460\n",
      "Train Epoch: 3 [76800/100000 (77%)]\tLoss: 0.144706\n",
      "Train Epoch: 3 [83200/100000 (83%)]\tLoss: 0.246497\n",
      "Train Epoch: 3 [89600/100000 (90%)]\tLoss: 0.178211\n",
      "Train Epoch: 3 [96000/100000 (96%)]\tLoss: 0.149084\n",
      "Train Epoch: 4 [0/100000 (0%)]\tLoss: 0.191189\n",
      "Train Epoch: 4 [6400/100000 (6%)]\tLoss: 0.099635\n",
      "Train Epoch: 4 [12800/100000 (13%)]\tLoss: 0.182672\n",
      "Train Epoch: 4 [19200/100000 (19%)]\tLoss: 0.123444\n",
      "Train Epoch: 4 [25600/100000 (26%)]\tLoss: 0.184171\n",
      "Train Epoch: 4 [32000/100000 (32%)]\tLoss: 0.119727\n",
      "Train Epoch: 4 [38400/100000 (38%)]\tLoss: 0.174040\n",
      "Train Epoch: 4 [44800/100000 (45%)]\tLoss: 0.167518\n",
      "Train Epoch: 4 [51200/100000 (51%)]\tLoss: 0.178636\n",
      "Train Epoch: 4 [57600/100000 (58%)]\tLoss: 0.055886\n",
      "Train Epoch: 4 [64000/100000 (64%)]\tLoss: 0.182506\n",
      "Train Epoch: 4 [70400/100000 (70%)]\tLoss: 0.114995\n",
      "Train Epoch: 4 [76800/100000 (77%)]\tLoss: 0.172597\n",
      "Train Epoch: 4 [83200/100000 (83%)]\tLoss: 0.113761\n",
      "Train Epoch: 4 [89600/100000 (90%)]\tLoss: 0.074125\n",
      "Train Epoch: 4 [96000/100000 (96%)]\tLoss: 0.076574\n"
     ]
    }
   ],
   "source": [
    "train(5, model)"
   ]
  },
  {
   "cell_type": "code",
   "execution_count": 20,
   "metadata": {},
   "outputs": [
    {
     "name": "stdout",
     "output_type": "stream",
     "text": [
      "\n",
      "Test set: Average loss: 0.1514, Accuracy: 18794/20000 (94%)\n",
      "\n"
     ]
    }
   ],
   "source": [
    "test(model)"
   ]
  },
  {
   "cell_type": "code",
   "execution_count": 21,
   "metadata": {},
   "outputs": [],
   "source": [
    "model_scripted = torch.jit.script(model)\n",
    "torch.jit.save(model_scripted, \"model.pt\")"
   ]
  }
 ],
 "metadata": {
  "kernelspec": {
   "display_name": "torch",
   "language": "python",
   "name": "pytorch"
  },
  "language_info": {
   "codemirror_mode": {
    "name": "ipython",
    "version": 3
   },
   "file_extension": ".py",
   "mimetype": "text/x-python",
   "name": "python",
   "nbconvert_exporter": "python",
   "pygments_lexer": "ipython3",
   "version": "3.9.16"
  },
  "orig_nbformat": 4
 },
 "nbformat": 4,
 "nbformat_minor": 2
}
