{
  "cells": [
    {
      "cell_type": "code",
      "source": [
        "# added\n",
        "!git clone https://github.com/manjunathshettar/fake-images"
      ],
      "metadata": {
        "colab": {
          "base_uri": "https://localhost:8080/"
        },
        "id": "ej-Lr8aOpL2G",
        "outputId": "f5e846e2-1c67-4b48-aad0-69e217107da9"
      },
      "execution_count": 1,
      "outputs": [
        {
          "output_type": "stream",
          "name": "stdout",
          "text": [
            "Cloning into 'fake-images'...\n",
            "remote: Enumerating objects: 118692, done.\u001b[K\n",
            "remote: Counting objects: 100% (118692/118692), done.\u001b[K\n",
            "remote: Compressing objects: 100% (37/37), done.\u001b[K\n",
            "remote: Total 118692 (delta 118655), reused 118689 (delta 118654), pack-reused 0\n",
            "Receiving objects: 100% (118692/118692), 40.19 MiB | 34.84 MiB/s, done.\n",
            "Resolving deltas: 100% (118655/118655), done.\n",
            "Updating files: 100% (120007/120007), done.\n"
          ]
        }
      ]
    },
    {
      "cell_type": "code",
      "execution_count": 2,
      "metadata": {
        "id": "o0tRC3fxmd4e"
      },
      "outputs": [],
      "source": [
        "import pandas as pd\n",
        "import numpy as np\n",
        "import matplotlib.pyplot as plt\n",
        "import seaborn as sns\n",
        "import os\n",
        "\n",
        "# %matplotlib inline"
      ]
    },
    {
      "cell_type": "code",
      "execution_count": 3,
      "metadata": {
        "id": "vNBpl0oTmd4h"
      },
      "outputs": [],
      "source": [
        "import torch\n",
        "import torch.nn as nn\n",
        "import torch.nn.functional as F\n",
        "from torch import inf\n",
        "from sklearn.metrics import confusion_matrix"
      ]
    },
    {
      "cell_type": "code",
      "execution_count": 4,
      "metadata": {
        "colab": {
          "base_uri": "https://localhost:8080/"
        },
        "id": "BWqxj12xmd4h",
        "outputId": "98b2117f-3da1-437c-d404-fd9ca4088988"
      },
      "outputs": [
        {
          "output_type": "execute_result",
          "data": {
            "text/plain": [
              "device(type='cpu')"
            ]
          },
          "metadata": {},
          "execution_count": 4
        }
      ],
      "source": [
        "device = torch.device(\"mps\" if torch.backends.mps.is_available() else \"cpu\")\n",
        "device"
      ]
    },
    {
      "cell_type": "code",
      "execution_count": 5,
      "metadata": {
        "id": "kcCwVApymd4h"
      },
      "outputs": [],
      "source": [
        "img_height = 32\n",
        "img_width = 32"
      ]
    },
    {
      "cell_type": "code",
      "execution_count": 6,
      "metadata": {
        "id": "4w4nnbGamd4i"
      },
      "outputs": [],
      "source": [
        "import torchvision\n",
        "from torchvision import transforms, datasets"
      ]
    },
    {
      "cell_type": "code",
      "execution_count": 7,
      "metadata": {
        "id": "2kZ49ct0md4i"
      },
      "outputs": [],
      "source": [
        "transform = transforms.Compose([transforms.Resize((img_height, img_width)),\n",
        "                                transforms.ToTensor(),\n",
        "                                transforms.Normalize((0.5,), (0.5,))])"
      ]
    },
    {
      "cell_type": "code",
      "execution_count": 10,
      "metadata": {
        "id": "C_EIAWC_md4i"
      },
      "outputs": [],
      "source": [
        "train_path = './fake-images/archive/train/'\n",
        "train_path_real = './fake-images/archive/train/REAL/'\n",
        "test_path = './fake-images/archive/test/'\n",
        "test_path_real = './fake-images/archive/test/REAL/'"
      ]
    },
    {
      "cell_type": "code",
      "execution_count": 11,
      "metadata": {
        "id": "VV7rab5smd4i"
      },
      "outputs": [],
      "source": [
        "train_dataset = datasets.ImageFolder(root = train_path, transform=transform)\n",
        "test_dataset = datasets.ImageFolder(root = test_path, transform=transform)"
      ]
    },
    {
      "cell_type": "code",
      "execution_count": 12,
      "metadata": {
        "id": "s4A1TVItmd4j"
      },
      "outputs": [],
      "source": [
        "from torch.utils.data import DataLoader"
      ]
    },
    {
      "cell_type": "code",
      "execution_count": 13,
      "metadata": {
        "id": "cxc1R7eKmd4j"
      },
      "outputs": [],
      "source": [
        "trainloader = DataLoader(train_dataset, batch_size=64, shuffle=True)\n",
        "testloader = DataLoader(test_dataset, batch_size=64, shuffle=True)    "
      ]
    },
    {
      "cell_type": "code",
      "execution_count": 13,
      "metadata": {
        "colab": {
          "base_uri": "https://localhost:8080/",
          "height": 501
        },
        "id": "wZMTtb5Emd4j",
        "outputId": "4088cb00-c01e-4250-8611-0b1228ed68fa"
      },
      "outputs": [
        {
          "output_type": "stream",
          "name": "stderr",
          "text": [
            "WARNING:matplotlib.image:Clipping input data to the valid range for imshow with RGB data ([0..1] for floats or [0..255] for integers).\n"
          ]
        },
        {
          "output_type": "stream",
          "name": "stdout",
          "text": [
            "Feature batch shape: torch.Size([64, 3, 32, 32])\n",
            "Labels batch shape: torch.Size([64])\n"
          ]
        },
        {
          "output_type": "display_data",
          "data": {
            "text/plain": [
              "<Figure size 640x480 with 1 Axes>"
            ],
            "image/png": "[encoded data removed]"
          },
          "metadata": {}
        },
        {
          "output_type": "stream",
          "name": "stdout",
          "text": [
            "Label: 1\n"
          ]
        }
      ],
      "source": [
        "train_features, train_labels = next(iter(trainloader))\n",
        "print(f\"Feature batch shape: {train_features.size()}\")\n",
        "print(f\"Labels batch shape: {train_labels.size()}\")\n",
        "img = train_features[0].squeeze()\n",
        "img.transpose_(0, 2)\n",
        "#display the image\n",
        "plt.imshow(img, cmap=\"gray\")\n",
        "label = train_labels[1]\n",
        "#plt.imshow(img, cmap=\"gray\")\n",
        "plt.show()\n",
        "print(f\"Label: {label}\")"
      ]
    },
    {
      "cell_type": "code",
      "execution_count": 14,
      "metadata": {
        "id": "SKaNLi7_md4k"
      },
      "outputs": [],
      "source": [
        "#split the datasets\n",
        "from sklearn.model_selection import train_test_split\n",
        "\n",
        "X_set, X_test, y_set, y_test = train_test_split(train_features, train_labels, test_size=0.2, random_state=42)\n",
        "X_train, X_val, y_train, y_val = train_test_split(X_set, y_set, test_size=0.2, random_state=42)\n",
        "\n"
      ]
    },
    {
      "cell_type": "code",
      "execution_count": 15,
      "metadata": {
        "id": "FEiHvP-Umd4k"
      },
      "outputs": [],
      "source": [
        "#create a model\n",
        "\n",
        "class Discriminator(nn.Module):\n",
        "\n",
        "    def __init__(self, *args, **kwargs) -> None:\n",
        "        super().__init__(*args, **kwargs)\n",
        "        \n",
        "        self.conv1 = nn.Conv2d(in_channels=3, out_channels = 32, kernel_size=5)\n",
        "        self.conv2 = nn.Conv2d(in_channels=32, out_channels = 32, kernel_size=5)\n",
        "        #self.conv = nn.Conv2d(in_channels=3, out_channels = 32, kernel_size=(3,3))\n",
        "\n",
        "        self.fc1 = nn.Linear(32 * 5 * 5, 128)\n",
        "        self.fc2 = nn.Linear(128, 1)\n",
        "\n",
        "        self.dropout = nn.Dropout(0.3)\n",
        "        self.flatten = nn.Flatten()\n",
        "    \n",
        "    def forward(self, x):\n",
        "        x = self.conv1(x)\n",
        "        x = F.relu(x)\n",
        "        x = F.max_pool2d(x, kernel_size=2, stride=2)\n",
        "        x = self.conv2(x)\n",
        "        x = F.relu(x)\n",
        "        x = F.max_pool2d(x, kernel_size=2, stride=2)\n",
        "        x = x.view(-1, 32 * 5 * 5)\n",
        "        x = self.flatten(x)\n",
        "        x = self.fc1(x)\n",
        "        x = F.relu(x)\n",
        "        x = self.dropout(x)\n",
        "        x = self.fc2(x)\n",
        "        x = torch.sigmoid(x)\n",
        "        return x.squeeze()"
      ]
    },
    {
      "cell_type": "code",
      "execution_count": 16,
      "metadata": {
        "id": "7hCJ_dqRmd4l"
      },
      "outputs": [],
      "source": [
        "discriminator = Discriminator().to(device)\n"
      ]
    },
    {
      "cell_type": "code",
      "execution_count": 17,
      "metadata": {
        "colab": {
          "base_uri": "https://localhost:8080/"
        },
        "id": "biya2vhTmd4l",
        "outputId": "8293211d-6b44-4b97-afa6-0c2f0c437f2e"
      },
      "outputs": [
        {
          "output_type": "stream",
          "name": "stdout",
          "text": [
            "torch.Size([40, 3, 32, 32]) torch.Size([11, 3, 32, 32]) torch.Size([13, 3, 32, 32])\n"
          ]
        }
      ],
      "source": [
        "print(X_train.shape, X_val.shape, X_test.shape)"
      ]
    },
    {
      "cell_type": "code",
      "execution_count": 18,
      "metadata": {
        "id": "lznOemNFmd4l"
      },
      "outputs": [],
      "source": [
        "#convert tensors to floats\n",
        "X_train = X_train.float()\n",
        "X_val = X_val.float()\n",
        "X_test = X_test.float()\n",
        "y_train = y_train.float()\n",
        "y_val = y_val.float()\n",
        "y_test = y_test.float()"
      ]
    },
    {
      "cell_type": "code",
      "execution_count": 19,
      "metadata": {
        "id": "H6abhcb0md4l"
      },
      "outputs": [],
      "source": [
        "model = Discriminator().to(device)\n",
        "optimizer = torch.optim.Adam(model.parameters(), lr=0.001)"
      ]
    },
    {
      "cell_type": "code",
      "execution_count": 39,
      "metadata": {
        "id": "XXJVykg3md4m"
      },
      "outputs": [],
      "source": [
        "accuracy_list = []\n",
        "\n",
        "def train(epochs, model, perm=torch.arange(0, 784).long()):\n",
        "    model.train()\n",
        "    for epoch in range(epochs):\n",
        "      for batch_idx, (data, target) in enumerate(trainloader):\n",
        "          # send to device\n",
        "          data, target = data.to(device), target.to(device)\n",
        "          \n",
        "          data = data.float()\n",
        "          target = target.float()\n",
        "\n",
        "          optimizer.zero_grad()\n",
        "          output = model(data)\n",
        "          loss = F.binary_cross_entropy(output, target)\n",
        "          loss.backward()\n",
        "          optimizer.step()\n",
        "          if batch_idx % 100 == 0:\n",
        "              print('Train Epoch: {} [{}/{} ({:.0f}%)]\\tLoss: {:.6f}'.format(\n",
        "                  epoch, batch_idx * len(data), len(trainloader.dataset),\n",
        "                  100. * batch_idx / len(trainloader), loss.item()))\n",
        "            \n",
        "def test(model, perm=torch.arange(0, 784).long()):\n",
        "    model.eval()\n",
        "    test_loss = 0\n",
        "    correct = 0\n",
        "    y_pred = []\n",
        "    y_test = []\n",
        "    for data, target in testloader:\n",
        "        # send to device\n",
        "        data, target = data.to(device), target.to(device)\n",
        "        \n",
        "        data = data.float()\n",
        "        target = target.float()\n",
        "        # permute pixels\n",
        "        output = model(data)\n",
        "        test_loss += F.binary_cross_entropy(output, target, reduction='sum').item() # sum up batch loss                                                               \n",
        "        pred = (output > 0.5).float()                                                                \n",
        "        correct += (pred == target).cpu().sum().item()\n",
        "        y_pred.extend(pred.cpu().numpy())\n",
        "        y_test.extend(target.cpu().numpy())\n",
        "\n",
        "    y_test = np.array(y_test)\n",
        "    y_pred = np.array(y_pred)\n",
        "\n",
        "    test_loss /= len(testloader.dataset)\n",
        "    accuracy = 100. * correct / len(testloader.dataset)\n",
        "    accuracy_list.append(accuracy)\n",
        "    print('\\nTest set: Average loss: {:.4f}, Accuracy: {}/{} ({:.2f}%)\\n'.format(\n",
        "        test_loss, correct, len(testloader.dataset),\n",
        "        accuracy))\n",
        "    \n",
        "    return y_pred, y_test\n",
        "     \n"
      ]
    },
    {
      "cell_type": "code",
      "execution_count": 21,
      "metadata": {
        "colab": {
          "base_uri": "https://localhost:8080/"
        },
        "id": "ctHGr8Ygmd4m",
        "outputId": "190d131b-cdd4-4e42-f202-f96c0ddf7bbc"
      },
      "outputs": [
        {
          "output_type": "stream",
          "name": "stdout",
          "text": [
            "Train Epoch: 0 [0/100000 (0%)]\tLoss: 0.689566\n",
            "Train Epoch: 0 [6400/100000 (6%)]\tLoss: 0.518228\n",
            "Train Epoch: 0 [12800/100000 (13%)]\tLoss: 0.367626\n",
            "Train Epoch: 0 [19200/100000 (19%)]\tLoss: 0.350288\n",
            "Train Epoch: 0 [25600/100000 (26%)]\tLoss: 0.280230\n",
            "Train Epoch: 0 [32000/100000 (32%)]\tLoss: 0.214100\n",
            "Train Epoch: 0 [38400/100000 (38%)]\tLoss: 0.279743\n",
            "Train Epoch: 0 [44800/100000 (45%)]\tLoss: 0.264909\n",
            "Train Epoch: 0 [51200/100000 (51%)]\tLoss: 0.287136\n",
            "Train Epoch: 0 [57600/100000 (58%)]\tLoss: 0.298278\n",
            "Train Epoch: 0 [64000/100000 (64%)]\tLoss: 0.224796\n",
            "Train Epoch: 0 [70400/100000 (70%)]\tLoss: 0.241554\n",
            "Train Epoch: 0 [76800/100000 (77%)]\tLoss: 0.231420\n",
            "Train Epoch: 0 [83200/100000 (83%)]\tLoss: 0.201365\n",
            "Train Epoch: 0 [89600/100000 (90%)]\tLoss: 0.244627\n",
            "Train Epoch: 0 [96000/100000 (96%)]\tLoss: 0.169409\n",
            "Train Epoch: 1 [0/100000 (0%)]\tLoss: 0.096872\n",
            "Train Epoch: 1 [6400/100000 (6%)]\tLoss: 0.325298\n",
            "Train Epoch: 1 [12800/100000 (13%)]\tLoss: 0.149543\n",
            "Train Epoch: 1 [19200/100000 (19%)]\tLoss: 0.212898\n",
            "Train Epoch: 1 [25600/100000 (26%)]\tLoss: 0.119637\n",
            "Train Epoch: 1 [32000/100000 (32%)]\tLoss: 0.266935\n",
            "Train Epoch: 1 [38400/100000 (38%)]\tLoss: 0.161186\n",
            "Train Epoch: 1 [44800/100000 (45%)]\tLoss: 0.191575\n",
            "Train Epoch: 1 [51200/100000 (51%)]\tLoss: 0.175233\n",
            "Train Epoch: 1 [57600/100000 (58%)]\tLoss: 0.312119\n",
            "Train Epoch: 1 [64000/100000 (64%)]\tLoss: 0.260437\n",
            "Train Epoch: 1 [70400/100000 (70%)]\tLoss: 0.200480\n",
            "Train Epoch: 1 [76800/100000 (77%)]\tLoss: 0.150070\n",
            "Train Epoch: 1 [83200/100000 (83%)]\tLoss: 0.129068\n",
            "Train Epoch: 1 [89600/100000 (90%)]\tLoss: 0.234530\n",
            "Train Epoch: 1 [96000/100000 (96%)]\tLoss: 0.266500\n",
            "Train Epoch: 2 [0/100000 (0%)]\tLoss: 0.244030\n",
            "Train Epoch: 2 [6400/100000 (6%)]\tLoss: 0.228605\n",
            "Train Epoch: 2 [12800/100000 (13%)]\tLoss: 0.168290\n",
            "Train Epoch: 2 [19200/100000 (19%)]\tLoss: 0.236316\n",
            "Train Epoch: 2 [25600/100000 (26%)]\tLoss: 0.176926\n",
            "Train Epoch: 2 [32000/100000 (32%)]\tLoss: 0.150162\n",
            "Train Epoch: 2 [38400/100000 (38%)]\tLoss: 0.134335\n",
            "Train Epoch: 2 [44800/100000 (45%)]\tLoss: 0.174324\n",
            "Train Epoch: 2 [51200/100000 (51%)]\tLoss: 0.157858\n",
            "Train Epoch: 2 [57600/100000 (58%)]\tLoss: 0.139077\n",
            "Train Epoch: 2 [64000/100000 (64%)]\tLoss: 0.102381\n",
            "Train Epoch: 2 [70400/100000 (70%)]\tLoss: 0.407279\n",
            "Train Epoch: 2 [76800/100000 (77%)]\tLoss: 0.340066\n",
            "Train Epoch: 2 [83200/100000 (83%)]\tLoss: 0.150676\n",
            "Train Epoch: 2 [89600/100000 (90%)]\tLoss: 0.246710\n",
            "Train Epoch: 2 [96000/100000 (96%)]\tLoss: 0.173216\n",
            "Train Epoch: 3 [0/100000 (0%)]\tLoss: 0.123558\n",
            "Train Epoch: 3 [6400/100000 (6%)]\tLoss: 0.246333\n",
            "Train Epoch: 3 [12800/100000 (13%)]\tLoss: 0.101138\n",
            "Train Epoch: 3 [19200/100000 (19%)]\tLoss: 0.097251\n",
            "Train Epoch: 3 [25600/100000 (26%)]\tLoss: 0.151375\n",
            "Train Epoch: 3 [32000/100000 (32%)]\tLoss: 0.199140\n",
            "Train Epoch: 3 [38400/100000 (38%)]\tLoss: 0.187541\n",
            "Train Epoch: 3 [44800/100000 (45%)]\tLoss: 0.107779\n",
            "Train Epoch: 3 [51200/100000 (51%)]\tLoss: 0.182713\n",
            "Train Epoch: 3 [57600/100000 (58%)]\tLoss: 0.264622\n",
            "Train Epoch: 3 [64000/100000 (64%)]\tLoss: 0.108233\n",
            "Train Epoch: 3 [70400/100000 (70%)]\tLoss: 0.211988\n",
            "Train Epoch: 3 [76800/100000 (77%)]\tLoss: 0.063211\n",
            "Train Epoch: 3 [83200/100000 (83%)]\tLoss: 0.142637\n",
            "Train Epoch: 3 [89600/100000 (90%)]\tLoss: 0.184141\n",
            "Train Epoch: 3 [96000/100000 (96%)]\tLoss: 0.160774\n",
            "Train Epoch: 4 [0/100000 (0%)]\tLoss: 0.105526\n",
            "Train Epoch: 4 [6400/100000 (6%)]\tLoss: 0.078740\n",
            "Train Epoch: 4 [12800/100000 (13%)]\tLoss: 0.145376\n",
            "Train Epoch: 4 [19200/100000 (19%)]\tLoss: 0.170565\n",
            "Train Epoch: 4 [25600/100000 (26%)]\tLoss: 0.166021\n",
            "Train Epoch: 4 [32000/100000 (32%)]\tLoss: 0.134967\n",
            "Train Epoch: 4 [38400/100000 (38%)]\tLoss: 0.153326\n",
            "Train Epoch: 4 [44800/100000 (45%)]\tLoss: 0.182454\n",
            "Train Epoch: 4 [51200/100000 (51%)]\tLoss: 0.142054\n",
            "Train Epoch: 4 [57600/100000 (58%)]\tLoss: 0.111592\n",
            "Train Epoch: 4 [64000/100000 (64%)]\tLoss: 0.094574\n",
            "Train Epoch: 4 [70400/100000 (70%)]\tLoss: 0.112950\n",
            "Train Epoch: 4 [76800/100000 (77%)]\tLoss: 0.175177\n",
            "Train Epoch: 4 [83200/100000 (83%)]\tLoss: 0.129012\n",
            "Train Epoch: 4 [89600/100000 (90%)]\tLoss: 0.190733\n",
            "Train Epoch: 4 [96000/100000 (96%)]\tLoss: 0.340007\n",
            "Train Epoch: 5 [0/100000 (0%)]\tLoss: 0.184780\n",
            "Train Epoch: 5 [6400/100000 (6%)]\tLoss: 0.149363\n",
            "Train Epoch: 5 [12800/100000 (13%)]\tLoss: 0.155248\n",
            "Train Epoch: 5 [19200/100000 (19%)]\tLoss: 0.348181\n",
            "Train Epoch: 5 [25600/100000 (26%)]\tLoss: 0.171671\n",
            "Train Epoch: 5 [32000/100000 (32%)]\tLoss: 0.132274\n",
            "Train Epoch: 5 [38400/100000 (38%)]\tLoss: 0.232775\n",
            "Train Epoch: 5 [44800/100000 (45%)]\tLoss: 0.105068\n",
            "Train Epoch: 5 [51200/100000 (51%)]\tLoss: 0.164340\n",
            "Train Epoch: 5 [57600/100000 (58%)]\tLoss: 0.096410\n",
            "Train Epoch: 5 [64000/100000 (64%)]\tLoss: 0.143791\n",
            "Train Epoch: 5 [70400/100000 (70%)]\tLoss: 0.107249\n",
            "Train Epoch: 5 [76800/100000 (77%)]\tLoss: 0.153700\n",
            "Train Epoch: 5 [83200/100000 (83%)]\tLoss: 0.047119\n",
            "Train Epoch: 5 [89600/100000 (90%)]\tLoss: 0.180613\n",
            "Train Epoch: 5 [96000/100000 (96%)]\tLoss: 0.139529\n",
            "Train Epoch: 6 [0/100000 (0%)]\tLoss: 0.083117\n",
            "Train Epoch: 6 [6400/100000 (6%)]\tLoss: 0.053483\n",
            "Train Epoch: 6 [12800/100000 (13%)]\tLoss: 0.166916\n",
            "Train Epoch: 6 [19200/100000 (19%)]\tLoss: 0.083502\n",
            "Train Epoch: 6 [25600/100000 (26%)]\tLoss: 0.253660\n",
            "Train Epoch: 6 [32000/100000 (32%)]\tLoss: 0.119328\n",
            "Train Epoch: 6 [38400/100000 (38%)]\tLoss: 0.221533\n",
            "Train Epoch: 6 [44800/100000 (45%)]\tLoss: 0.034637\n",
            "Train Epoch: 6 [51200/100000 (51%)]\tLoss: 0.103497\n",
            "Train Epoch: 6 [57600/100000 (58%)]\tLoss: 0.102885\n",
            "Train Epoch: 6 [64000/100000 (64%)]\tLoss: 0.067295\n",
            "Train Epoch: 6 [70400/100000 (70%)]\tLoss: 0.070470\n",
            "Train Epoch: 6 [76800/100000 (77%)]\tLoss: 0.135445\n",
            "Train Epoch: 6 [83200/100000 (83%)]\tLoss: 0.243079\n",
            "Train Epoch: 6 [89600/100000 (90%)]\tLoss: 0.061426\n",
            "Train Epoch: 6 [96000/100000 (96%)]\tLoss: 0.127076\n",
            "Train Epoch: 7 [0/100000 (0%)]\tLoss: 0.155671\n",
            "Train Epoch: 7 [6400/100000 (6%)]\tLoss: 0.043255\n",
            "Train Epoch: 7 [12800/100000 (13%)]\tLoss: 0.021813\n",
            "Train Epoch: 7 [19200/100000 (19%)]\tLoss: 0.203237\n",
            "Train Epoch: 7 [25600/100000 (26%)]\tLoss: 0.100035\n",
            "Train Epoch: 7 [32000/100000 (32%)]\tLoss: 0.128769\n",
            "Train Epoch: 7 [38400/100000 (38%)]\tLoss: 0.170871\n",
            "Train Epoch: 7 [44800/100000 (45%)]\tLoss: 0.174909\n",
            "Train Epoch: 7 [51200/100000 (51%)]\tLoss: 0.023378\n",
            "Train Epoch: 7 [57600/100000 (58%)]\tLoss: 0.090872\n",
            "Train Epoch: 7 [64000/100000 (64%)]\tLoss: 0.324906\n",
            "Train Epoch: 7 [70400/100000 (70%)]\tLoss: 0.048819\n",
            "Train Epoch: 7 [76800/100000 (77%)]\tLoss: 0.445114\n",
            "Train Epoch: 7 [83200/100000 (83%)]\tLoss: 0.164402\n",
            "Train Epoch: 7 [89600/100000 (90%)]\tLoss: 0.168405\n",
            "Train Epoch: 7 [96000/100000 (96%)]\tLoss: 0.060591\n",
            "Train Epoch: 8 [0/100000 (0%)]\tLoss: 0.077927\n",
            "Train Epoch: 8 [6400/100000 (6%)]\tLoss: 0.077636\n",
            "Train Epoch: 8 [12800/100000 (13%)]\tLoss: 0.177736\n",
            "Train Epoch: 8 [19200/100000 (19%)]\tLoss: 0.148695\n",
            "Train Epoch: 8 [25600/100000 (26%)]\tLoss: 0.099737\n",
            "Train Epoch: 8 [32000/100000 (32%)]\tLoss: 0.108087\n",
            "Train Epoch: 8 [38400/100000 (38%)]\tLoss: 0.091383\n",
            "Train Epoch: 8 [44800/100000 (45%)]\tLoss: 0.047128\n",
            "Train Epoch: 8 [51200/100000 (51%)]\tLoss: 0.195592\n",
            "Train Epoch: 8 [57600/100000 (58%)]\tLoss: 0.033290\n",
            "Train Epoch: 8 [64000/100000 (64%)]\tLoss: 0.113755\n",
            "Train Epoch: 8 [70400/100000 (70%)]\tLoss: 0.128226\n",
            "Train Epoch: 8 [76800/100000 (77%)]\tLoss: 0.106153\n",
            "Train Epoch: 8 [83200/100000 (83%)]\tLoss: 0.129101\n",
            "Train Epoch: 8 [89600/100000 (90%)]\tLoss: 0.124868\n",
            "Train Epoch: 8 [96000/100000 (96%)]\tLoss: 0.108138\n",
            "Train Epoch: 9 [0/100000 (0%)]\tLoss: 0.075501\n",
            "Train Epoch: 9 [6400/100000 (6%)]\tLoss: 0.113012\n",
            "Train Epoch: 9 [12800/100000 (13%)]\tLoss: 0.227543\n",
            "Train Epoch: 9 [19200/100000 (19%)]\tLoss: 0.038135\n",
            "Train Epoch: 9 [25600/100000 (26%)]\tLoss: 0.098628\n",
            "Train Epoch: 9 [32000/100000 (32%)]\tLoss: 0.191085\n",
            "Train Epoch: 9 [38400/100000 (38%)]\tLoss: 0.092564\n",
            "Train Epoch: 9 [44800/100000 (45%)]\tLoss: 0.106354\n",
            "Train Epoch: 9 [51200/100000 (51%)]\tLoss: 0.119274\n",
            "Train Epoch: 9 [57600/100000 (58%)]\tLoss: 0.090625\n",
            "Train Epoch: 9 [64000/100000 (64%)]\tLoss: 0.082327\n",
            "Train Epoch: 9 [70400/100000 (70%)]\tLoss: 0.116567\n",
            "Train Epoch: 9 [76800/100000 (77%)]\tLoss: 0.066697\n",
            "Train Epoch: 9 [83200/100000 (83%)]\tLoss: 0.165126\n",
            "Train Epoch: 9 [89600/100000 (90%)]\tLoss: 0.084523\n",
            "Train Epoch: 9 [96000/100000 (96%)]\tLoss: 0.073801\n"
          ]
        }
      ],
      "source": [
        "train(10, model) # 15 --> 94.31%, #10 --> 94.86%"
      ]
    },
    {
      "cell_type": "code",
      "execution_count": 40,
      "metadata": {
        "colab": {
          "base_uri": "https://localhost:8080/"
        },
        "id": "k-kw3pJLmd4m",
        "outputId": "35ede63e-9fbe-48a2-9dce-e5ceb6c8355d"
      },
      "outputs": [
        {
          "output_type": "stream",
          "name": "stdout",
          "text": [
            "\n",
            "Test set: Average loss: 0.1703, Accuracy: 18656/20000 (93.28%)\n",
            "\n"
          ]
        }
      ],
      "source": [
        "y_pred, y_test = test(model)"
      ]
    },
    {
      "cell_type": "code",
      "execution_count": 23,
      "metadata": {
        "id": "AMkekOT7md4m"
      },
      "outputs": [],
      "source": [
        "model_scripted = torch.jit.script(model)\n",
        "torch.jit.save(model_scripted, \"model.pt\")"
      ]
    },
    {
      "cell_type": "markdown",
      "source": [
        "Evalution metrics: Accuracy, Precision, Recall, F1-score"
      ],
      "metadata": {
        "id": "2TazttSj-wqL"
      }
    },
    {
      "cell_type": "code",
      "source": [
        "def performance(y_true,y_pred):\n",
        "    conf_matrix = confusion_matrix(y_true,y_pred)\n",
        "    tp = conf_matrix[1,1]\n",
        "    fn = conf_matrix[1,0]\n",
        "    fp = conf_matrix[0,1]\n",
        "    tn = conf_matrix[0,0]\n",
        "    metrics = {}\n",
        "    metrics['accuracy'] = (tp+tn)/(tp+tn+fp+fn)\n",
        "    metrics['precision'] = tp/(tp+fp)\n",
        "    metrics['recall'] = tp/(tp+fn)\n",
        "    metrics['f1-score'] = 2 * (metrics['precision']*metrics['recall']/\n",
        "                                   (metrics['precision']+metrics['recall']))\n",
        "    # output_dict['false_alarm'] = fp/(fp+tn)\n",
        "    # output_dict['catch_rate'] = tp/(tp+fn)\n",
        "    \n",
        "    return conf_matrix, metrics"
      ],
      "metadata": {
        "id": "5zP_uQur-3SB"
      },
      "execution_count": 47,
      "outputs": []
    },
    {
      "cell_type": "code",
      "source": [
        "matrix, metrics = performance(y_test,y_pred)"
      ],
      "metadata": {
        "colab": {
          "base_uri": "https://localhost:8080/",
          "height": 169
        },
        "id": "_vimdPRSEZ06",
        "outputId": "23150de5-29d6-4774-8851-69601a934995"
      },
      "execution_count": 2,
      "outputs": [
        {
          "output_type": "error",
          "ename": "NameError",
          "evalue": "ignored",
          "traceback": [
            "\u001b[0;31m---------------------------------------------------------------------------\u001b[0m",
            "\u001b[0;31mNameError\u001b[0m                                 Traceback (most recent call last)",
            "\u001b[0;32m<ipython-input-2-41bf9735a528>\u001b[0m in \u001b[0;36m<cell line: 1>\u001b[0;34m()\u001b[0m\n\u001b[0;32m----> 1\u001b[0;31m \u001b[0mmatrix\u001b[0m\u001b[0;34m,\u001b[0m \u001b[0mmetrics\u001b[0m \u001b[0;34m=\u001b[0m \u001b[0mperformance\u001b[0m\u001b[0;34m(\u001b[0m\u001b[0my_test\u001b[0m\u001b[0;34m,\u001b[0m\u001b[0my_pred\u001b[0m\u001b[0;34m)\u001b[0m\u001b[0;34m\u001b[0m\u001b[0;34m\u001b[0m\u001b[0m\n\u001b[0m",
            "\u001b[0;31mNameError\u001b[0m: name 'performance' is not defined"
          ]
        }
      ]
    },
    {
      "cell_type": "code",
      "source": [
        "cm_normalized = matrix.astype('float') / matrix.sum(axis=1)[:, np.newaxis]\n",
        "\n",
        "# Plot the confusion matrix\n",
        "plt.imshow(cm_normalized, interpolation='nearest', cmap=plt.cm.Blues)\n",
        "plt.title('Confusion Matrix')\n",
        "plt.colorbar()\n",
        "\n",
        "# Add labels to the plot\n",
        "num_classes = matrix.shape[0]\n",
        "plt.xticks(np.arange(num_classes))\n",
        "plt.yticks(np.arange(num_classes))\n",
        "plt.xlabel('Predicted Label')\n",
        "plt.ylabel('True Label')\n",
        "\n",
        "# Add count values in each cell\n",
        "for i in range(num_classes):\n",
        "    for j in range(num_classes):\n",
        "        plt.text(j, i, format(matrix[i, j], 'd'),\n",
        "                 horizontalalignment=\"center\",\n",
        "                 color=\"white\" if cm_normalized[i, j] > 0.5 else \"black\")\n",
        "\n",
        "plt.show()\n",
        "\n",
        "# figure out if 0 is fake and 1 is real or vice versa\n"
      ],
      "metadata": {
        "colab": {
          "base_uri": "https://localhost:8080/",
          "height": 472
        },
        "id": "fJYZOAbAHUZ_",
        "outputId": "e391efef-6fc3-4e9e-e125-8ddca3a52e44"
      },
      "execution_count": 49,
      "outputs": [
        {
          "output_type": "display_data",
          "data": {
            "text/plain": [
              "<Figure size 640x480 with 2 Axes>"
            ],
            "image/png": "[encoded data removed]"
          },
          "metadata": {}
        }
      ]
    },
    {
      "cell_type": "code",
      "source": [
        "print(metrics)"
      ],
      "metadata": {
        "colab": {
          "base_uri": "https://localhost:8080/"
        },
        "id": "g_lQXxHBdGn7",
        "outputId": "50e10614-b25a-4c46-8930-5b24045524af"
      },
      "execution_count": 50,
      "outputs": [
        {
          "output_type": "stream",
          "name": "stdout",
          "text": [
            "{'accuracy': 0.9328, 'precision': 0.9085331319614877, 'recall': 0.9625, 'f1-score': 0.9347382732834806}\n"
          ]
        }
      ]
    }
  ],
  "metadata": {
    "kernelspec": {
      "display_name": "torch",
      "language": "python",
      "name": "pytorch"
    },
    "language_info": {
      "codemirror_mode": {
        "name": "ipython",
        "version": 3
      },
      "file_extension": ".py",
      "mimetype": "text/x-python",
      "name": "python",
      "nbconvert_exporter": "python",
      "pygments_lexer": "ipython3",
      "version": "3.9.16"
    },
    "orig_nbformat": 4,
    "colab": {
      "provenance": [],
      "gpuType": "T4"
    }
  },
  "nbformat": 4,
  "nbformat_minor": 0
}